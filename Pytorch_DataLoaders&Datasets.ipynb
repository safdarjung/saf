{
  "nbformat": 4,
  "nbformat_minor": 0,
  "metadata": {
    "colab": {
      "provenance": [],
      "authorship_tag": "ABX9TyOHMmgoj9D8kCkUGycUxqZD",
      "include_colab_link": true
    },
    "kernelspec": {
      "name": "python3",
      "display_name": "Python 3"
    },
    "language_info": {
      "name": "python"
    }
  },
  "cells": [
    {
      "cell_type": "markdown",
      "metadata": {
        "id": "view-in-github",
        "colab_type": "text"
      },
      "source": [
        "<a href=\"https://colab.research.google.com/github/safdarjung/saf/blob/main/Pytorch_DataLoaders%26Datasets.ipynb\" target=\"_parent\"><img src=\"https://colab.research.google.com/assets/colab-badge.svg\" alt=\"Open In Colab\"/></a>"
      ]
    },
    {
      "cell_type": "code",
      "execution_count": 91,
      "metadata": {
        "id": "CIfuvmJpbkhU"
      },
      "outputs": [],
      "source": [
        "import torch\n",
        "import torch.nn as nn\n",
        "import torch.optim as optim\n",
        "import numpy as np\n",
        "from torch.utils.data import Dataset, DataLoader\n",
        "from torchvision import transforms"
      ]
    },
    {
      "cell_type": "code",
      "source": [
        "class TabularDataset(Dataset):\n",
        "  def __init__(self,data,transform=None):\n",
        "    self.data=data\n",
        "    self.transform=transform\n",
        "\n",
        "  def __len__(self):\n",
        "    return len(self.data)\n",
        "\n",
        "  def __getitem__(self,idx):\n",
        "    sample = self.data[idx]\n",
        "    if self.transform:     #if we apply any transformation\n",
        "      sample = self.transform(sample)\n",
        "    return sample\n",
        "\n"
      ],
      "metadata": {
        "id": "CDGxiKurbynu"
      },
      "execution_count": 92,
      "outputs": []
    },
    {
      "cell_type": "code",
      "source": [
        "class ToTensor:\n",
        "  def __call__(self,sample):\n",
        "    features,labels=sample[0],sample[1]\n",
        "    return {\"features\": torch.tensor(features,dtype=torch.float32),\"labels\":torch.tensor(labels,dtype=torch.float32)}"
      ],
      "metadata": {
        "id": "5KKa7jlycRC6"
      },
      "execution_count": 93,
      "outputs": []
    },
    {
      "cell_type": "code",
      "source": [
        "class Normalize:\n",
        "  def __call__(self,sample):\n",
        "    features,labels=sample[0],sample[1]\n",
        "    norm_features=(features - np.mean(features))/np.std(features)\n",
        "    return (norm_features,labels)"
      ],
      "metadata": {
        "id": "SZ8XhkaQcrIO"
      },
      "execution_count": 94,
      "outputs": []
    },
    {
      "cell_type": "code",
      "source": [
        "tabular_data = [(np.random.rand(2),np.random.rand()) for _ in range(100)]"
      ],
      "metadata": {
        "id": "uOs3veitdGW-"
      },
      "execution_count": 95,
      "outputs": []
    },
    {
      "cell_type": "code",
      "source": [
        "transform = transforms.Compose([Normalize(),ToTensor()])"
      ],
      "metadata": {
        "id": "TeiiHmhQdVPm"
      },
      "execution_count": 96,
      "outputs": []
    },
    {
      "cell_type": "code",
      "source": [
        "dataset = TabularDataset(data=tabular_data,transform=transform)"
      ],
      "metadata": {
        "id": "OYluFX7BdgcR"
      },
      "execution_count": 97,
      "outputs": []
    },
    {
      "cell_type": "code",
      "source": [
        "dataloader = DataLoader(dataset,batch_size=16,shuffle=True)"
      ],
      "metadata": {
        "id": "Tc5XaBVSdqrh"
      },
      "execution_count": 98,
      "outputs": []
    },
    {
      "cell_type": "code",
      "source": [
        "class SimpleNN(nn.Module):\n",
        "  def __init__(self,input_size):\n",
        "    super(SimpleNN,self).__init__()\n",
        "    self.fc1 = nn.Linear(input_size,1)\n",
        "\n",
        "  def forward(self,x):\n",
        "    x = self.fc1(x)\n",
        "    return x"
      ],
      "metadata": {
        "id": "GYpVDBMpeHBW"
      },
      "execution_count": 99,
      "outputs": []
    },
    {
      "cell_type": "code",
      "source": [
        "model = SimpleNN(input_size=2)\n",
        "criterion = nn.MSELoss()\n",
        "optimizer = optim.SGD(model.parameters(),lr=0.01)"
      ],
      "metadata": {
        "id": "v1NMuYsFef7u"
      },
      "execution_count": 100,
      "outputs": []
    },
    {
      "cell_type": "code",
      "source": [
        "num_epochs = 50\n",
        "for epoch in range(num_epochs):\n",
        "  model.train()\n",
        "  t_loss = 0.0\n",
        "\n",
        "  for batch in dataloader:\n",
        "    features = batch[\"features\"]\n",
        "    labels = batch[\"labels\"]\n",
        "    optimizer.zero_grad()\n",
        "    outputs = model(features)\n",
        "    loss = criterion(outputs,labels.view(-1,1))\n",
        "    loss.backward()\n",
        "    optimizer.step()\n",
        "\n",
        "    t_loss += loss.item()\n",
        "\n",
        "  print(f\"Epoch {epoch+1}/{num_epochs}, Loss: {t_loss/len(dataloader)}\")"
      ],
      "metadata": {
        "colab": {
          "base_uri": "https://localhost:8080/"
        },
        "id": "J8_jM2Vletdh",
        "outputId": "d5ec7a85-e645-422e-e07b-de00664613b1"
      },
      "execution_count": 101,
      "outputs": [
        {
          "output_type": "stream",
          "name": "stdout",
          "text": [
            "Epoch 1/50, Loss: 1.046856267111642\n",
            "Epoch 2/50, Loss: 0.8232783419745309\n",
            "Epoch 3/50, Loss: 0.6477352976799011\n",
            "Epoch 4/50, Loss: 0.48536755783217295\n",
            "Epoch 5/50, Loss: 0.38544091156550814\n",
            "Epoch 6/50, Loss: 0.30276021574224743\n",
            "Epoch 7/50, Loss: 0.245792778474944\n",
            "Epoch 8/50, Loss: 0.18918635456689767\n",
            "Epoch 9/50, Loss: 0.1913736973490034\n",
            "Epoch 10/50, Loss: 0.15759982062237604\n",
            "Epoch 11/50, Loss: 0.1372073335306985\n",
            "Epoch 12/50, Loss: 0.10822382090347153\n",
            "Epoch 13/50, Loss: 0.1014650437448706\n",
            "Epoch 14/50, Loss: 0.09852598713976997\n",
            "Epoch 15/50, Loss: 0.0863503994686263\n",
            "Epoch 16/50, Loss: 0.08416694828442164\n",
            "Epoch 17/50, Loss: 0.08713778534105845\n",
            "Epoch 18/50, Loss: 0.09398863730686051\n",
            "Epoch 19/50, Loss: 0.07502205084477152\n",
            "Epoch 20/50, Loss: 0.07765788212418556\n",
            "Epoch 21/50, Loss: 0.07568262038486344\n",
            "Epoch 22/50, Loss: 0.0767366960644722\n",
            "Epoch 23/50, Loss: 0.0825517326593399\n",
            "Epoch 24/50, Loss: 0.070276551214712\n",
            "Epoch 25/50, Loss: 0.07826738804578781\n",
            "Epoch 26/50, Loss: 0.0779667677623885\n",
            "Epoch 27/50, Loss: 0.06849975671086993\n",
            "Epoch 28/50, Loss: 0.07338357982890946\n",
            "Epoch 29/50, Loss: 0.07932303420134953\n",
            "Epoch 30/50, Loss: 0.07252874092331954\n",
            "Epoch 31/50, Loss: 0.07422459391610962\n",
            "Epoch 32/50, Loss: 0.07436116678374154\n",
            "Epoch 33/50, Loss: 0.08169327835951533\n",
            "Epoch 34/50, Loss: 0.07797754662377494\n",
            "Epoch 35/50, Loss: 0.0686844028532505\n",
            "Epoch 36/50, Loss: 0.07395096868276596\n",
            "Epoch 37/50, Loss: 0.07802431657910347\n",
            "Epoch 38/50, Loss: 0.0750236947621618\n",
            "Epoch 39/50, Loss: 0.07408750695841652\n",
            "Epoch 40/50, Loss: 0.08240548468061856\n",
            "Epoch 41/50, Loss: 0.07298069873026439\n",
            "Epoch 42/50, Loss: 0.0770889941070761\n",
            "Epoch 43/50, Loss: 0.08351067453622818\n",
            "Epoch 44/50, Loss: 0.06987626797386579\n",
            "Epoch 45/50, Loss: 0.07409730393971715\n",
            "Epoch 46/50, Loss: 0.07682244266782488\n",
            "Epoch 47/50, Loss: 0.07522786089352199\n",
            "Epoch 48/50, Loss: 0.07243448602301734\n",
            "Epoch 49/50, Loss: 0.0735573098063469\n",
            "Epoch 50/50, Loss: 0.07429204349006925\n"
          ]
        }
      ]
    },
    {
      "cell_type": "code",
      "source": [
        "model.eval()\n",
        "\n",
        "with torch.no_grad():\n",
        "  t_loss = 0.0\n",
        "  for batch in dataloader:\n",
        "    features = batch[\"features\"]\n",
        "    labels = batch[\"labels\"]\n",
        "    outputs = model(features)\n",
        "    loss = criterion(outputs,labels.view(-1,1))\n",
        "    t_loss += loss.item()\n",
        "  print(t_loss/len(dataloader))"
      ],
      "metadata": {
        "colab": {
          "base_uri": "https://localhost:8080/"
        },
        "id": "qI5BDT7jfFor",
        "outputId": "b5905b0a-3522-4a54-bd47-1459b219803c"
      },
      "execution_count": 104,
      "outputs": [
        {
          "output_type": "stream",
          "name": "stdout",
          "text": [
            "0.07373614343149322\n"
          ]
        }
      ]
    },
    {
      "cell_type": "code",
      "source": [],
      "metadata": {
        "id": "k2towpXbjDi-"
      },
      "execution_count": null,
      "outputs": []
    }
  ]
}