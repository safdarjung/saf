{
  "nbformat": 4,
  "nbformat_minor": 0,
  "metadata": {
    "colab": {
      "provenance": [],
      "authorship_tag": "ABX9TyM/knm22NlnTkrBHA4oBYwt",
      "include_colab_link": true
    },
    "kernelspec": {
      "name": "python3",
      "display_name": "Python 3"
    },
    "language_info": {
      "name": "python"
    }
  },
  "cells": [
    {
      "cell_type": "markdown",
      "metadata": {
        "id": "view-in-github",
        "colab_type": "text"
      },
      "source": [
        "<a href=\"https://colab.research.google.com/github/safdarjung/saf/blob/main/Pytorch_LinearRegression.ipynb\" target=\"_parent\"><img src=\"https://colab.research.google.com/assets/colab-badge.svg\" alt=\"Open In Colab\"/></a>"
      ]
    },
    {
      "cell_type": "code",
      "execution_count": null,
      "metadata": {
        "id": "DarKEIFQ8GF7"
      },
      "outputs": [],
      "source": [
        "import torch\n",
        "import torch.nn as nn\n",
        "import torch.optim as optim\n",
        "import numpy as np\n",
        "import matplotlib.pyplot as plt"
      ]
    },
    {
      "cell_type": "code",
      "source": [
        "X = np.array([x for x in range(100)])\n",
        "X = X.reshape(-1, 1)     # converts to a column vector - 100 columns/features\n",
        "Y = 46 + 2 * X.flatten()          # single row with 100 values"
      ],
      "metadata": {
        "id": "x2-JxmC38cvC"
      },
      "execution_count": null,
      "outputs": []
    },
    {
      "cell_type": "code",
      "source": [
        "X"
      ],
      "metadata": {
        "colab": {
          "base_uri": "https://localhost:8080/"
        },
        "id": "dKYw6Ega9Ggp",
        "outputId": "5dde34c6-95fa-4904-8a2c-9df681976b64"
      },
      "execution_count": null,
      "outputs": [
        {
          "output_type": "execute_result",
          "data": {
            "text/plain": [
              "array([[ 0],\n",
              "       [ 1],\n",
              "       [ 2],\n",
              "       [ 3],\n",
              "       [ 4],\n",
              "       [ 5],\n",
              "       [ 6],\n",
              "       [ 7],\n",
              "       [ 8],\n",
              "       [ 9],\n",
              "       [10],\n",
              "       [11],\n",
              "       [12],\n",
              "       [13],\n",
              "       [14],\n",
              "       [15],\n",
              "       [16],\n",
              "       [17],\n",
              "       [18],\n",
              "       [19],\n",
              "       [20],\n",
              "       [21],\n",
              "       [22],\n",
              "       [23],\n",
              "       [24],\n",
              "       [25],\n",
              "       [26],\n",
              "       [27],\n",
              "       [28],\n",
              "       [29],\n",
              "       [30],\n",
              "       [31],\n",
              "       [32],\n",
              "       [33],\n",
              "       [34],\n",
              "       [35],\n",
              "       [36],\n",
              "       [37],\n",
              "       [38],\n",
              "       [39],\n",
              "       [40],\n",
              "       [41],\n",
              "       [42],\n",
              "       [43],\n",
              "       [44],\n",
              "       [45],\n",
              "       [46],\n",
              "       [47],\n",
              "       [48],\n",
              "       [49],\n",
              "       [50],\n",
              "       [51],\n",
              "       [52],\n",
              "       [53],\n",
              "       [54],\n",
              "       [55],\n",
              "       [56],\n",
              "       [57],\n",
              "       [58],\n",
              "       [59],\n",
              "       [60],\n",
              "       [61],\n",
              "       [62],\n",
              "       [63],\n",
              "       [64],\n",
              "       [65],\n",
              "       [66],\n",
              "       [67],\n",
              "       [68],\n",
              "       [69],\n",
              "       [70],\n",
              "       [71],\n",
              "       [72],\n",
              "       [73],\n",
              "       [74],\n",
              "       [75],\n",
              "       [76],\n",
              "       [77],\n",
              "       [78],\n",
              "       [79],\n",
              "       [80],\n",
              "       [81],\n",
              "       [82],\n",
              "       [83],\n",
              "       [84],\n",
              "       [85],\n",
              "       [86],\n",
              "       [87],\n",
              "       [88],\n",
              "       [89],\n",
              "       [90],\n",
              "       [91],\n",
              "       [92],\n",
              "       [93],\n",
              "       [94],\n",
              "       [95],\n",
              "       [96],\n",
              "       [97],\n",
              "       [98],\n",
              "       [99]])"
            ]
          },
          "metadata": {},
          "execution_count": 19
        }
      ]
    },
    {
      "cell_type": "code",
      "source": [
        "Y"
      ],
      "metadata": {
        "colab": {
          "base_uri": "https://localhost:8080/"
        },
        "id": "c8A1eD0u9HfS",
        "outputId": "ba088f13-e204-4ae6-e6ab-375dcc8cb816"
      },
      "execution_count": null,
      "outputs": [
        {
          "output_type": "execute_result",
          "data": {
            "text/plain": [
              "array([ 46,  48,  50,  52,  54,  56,  58,  60,  62,  64,  66,  68,  70,\n",
              "        72,  74,  76,  78,  80,  82,  84,  86,  88,  90,  92,  94,  96,\n",
              "        98, 100, 102, 104, 106, 108, 110, 112, 114, 116, 118, 120, 122,\n",
              "       124, 126, 128, 130, 132, 134, 136, 138, 140, 142, 144, 146, 148,\n",
              "       150, 152, 154, 156, 158, 160, 162, 164, 166, 168, 170, 172, 174,\n",
              "       176, 178, 180, 182, 184, 186, 188, 190, 192, 194, 196, 198, 200,\n",
              "       202, 204, 206, 208, 210, 212, 214, 216, 218, 220, 222, 224, 226,\n",
              "       228, 230, 232, 234, 236, 238, 240, 242, 244])"
            ]
          },
          "metadata": {},
          "execution_count": 20
        }
      ]
    },
    {
      "cell_type": "code",
      "source": [
        "plt.scatter(X,Y, label=\"Initial Data\")\n",
        "plt.xlabel(\"X\")\n",
        "plt.ylabel(\"Y\")\n",
        "plt.legend()\n",
        "plt.show()"
      ],
      "metadata": {
        "colab": {
          "base_uri": "https://localhost:8080/",
          "height": 449
        },
        "id": "FUF5Dg789IEW",
        "outputId": "0fe9e814-4772-4dec-b399-8727d9edc611"
      },
      "execution_count": null,
      "outputs": [
        {
          "output_type": "display_data",
          "data": {
            "text/plain": [
              "<Figure size 640x480 with 1 Axes>"
            ],
            "image/png": "[encoded data removed]"
          },
          "metadata": {}
        }
      ]
    },
    {
      "cell_type": "code",
      "source": [
        "# NORMALISATION\n",
        "\n",
        "x_mean, x_std = X.mean(), X.std()\n",
        "X_normalised = (X - x_mean) / x_std\n",
        "X_tensor = torch.tensor(X_normalised, dtype=torch.float32)"
      ],
      "metadata": {
        "id": "fFRhSF1b914G"
      },
      "execution_count": null,
      "outputs": []
    },
    {
      "cell_type": "code",
      "source": [
        "X_tensor.shape"
      ],
      "metadata": {
        "colab": {
          "base_uri": "https://localhost:8080/"
        },
        "id": "8DaS60ueEssC",
        "outputId": "680f41e3-1b89-4336-ee2c-ebfff285c7bf"
      },
      "execution_count": null,
      "outputs": [
        {
          "output_type": "execute_result",
          "data": {
            "text/plain": [
              "torch.Size([100, 1])"
            ]
          },
          "metadata": {},
          "execution_count": 23
        }
      ]
    },
    {
      "cell_type": "code",
      "source": [
        "y_mean, y_std = Y.mean(), Y.std()\n",
        "y_normalised = (Y - y_mean) / y_std\n",
        "y_tensor = torch.tensor(y_normalised, dtype=torch.float32)"
      ],
      "metadata": {
        "id": "0QZRCobqEuSi"
      },
      "execution_count": null,
      "outputs": []
    },
    {
      "cell_type": "code",
      "source": [
        "y_tensor.shape"
      ],
      "metadata": {
        "colab": {
          "base_uri": "https://localhost:8080/"
        },
        "id": "sQcBx3NSFBy_",
        "outputId": "fb6c8b32-9945-4f3b-a6f4-3b0e8390c4b2"
      },
      "execution_count": null,
      "outputs": [
        {
          "output_type": "execute_result",
          "data": {
            "text/plain": [
              "torch.Size([100])"
            ]
          },
          "metadata": {},
          "execution_count": 25
        }
      ]
    },
    {
      "cell_type": "code",
      "source": [
        "class LinearRegressionModel(nn.Module):        # inheriting from nn.Module - lr\n",
        "  def __init__(self,in_features, out_features):\n",
        "    super().__init__()          # initializes the child with all the properties of the parent\n",
        "    self.linear = nn.Linear(in_features, out_features)\n",
        "\n",
        "  def forward(self, x):\n",
        "    return self.linear(x).squeeze(1)"
      ],
      "metadata": {
        "id": "_q_TdiEyFEQc"
      },
      "execution_count": null,
      "outputs": []
    },
    {
      "cell_type": "code",
      "source": [
        "in_features = 1\n",
        "out_features = 1\n",
        "model = LinearRegressionModel(in_features, out_features)"
      ],
      "metadata": {
        "id": "zrQkwJDQGGcm"
      },
      "execution_count": null,
      "outputs": []
    },
    {
      "cell_type": "code",
      "source": [
        "criterion = nn.MSELoss()\n",
        "# par =  par - lr * grad    -----> SGD\n",
        "optimizer = optim.SGD(model.parameters(), lr=0.1)"
      ],
      "metadata": {
        "id": "A8XUsbZCGNi9"
      },
      "execution_count": null,
      "outputs": []
    },
    {
      "cell_type": "code",
      "source": [
        "num_epochs = 20\n",
        "for epoch in range(num_epochs):\n",
        "  outputs = model(X_tensor)              # forward pass\n",
        "  loss = criterion(outputs, y_tensor)    # calc loss\n",
        "  optimizer.zero_grad()       # reset the gradient to 0\n",
        "  loss.backward()             # calc the gradient\n",
        "  optimizer.step()            # update the weights\n",
        "\n",
        "  print(f\"Epoch {epoch+1}/{num_epochs}, Loss: {loss.item():.2f}\")"
      ],
      "metadata": {
        "colab": {
          "base_uri": "https://localhost:8080/"
        },
        "id": "6E5pLEqGHC6Y",
        "outputId": "b8537c12-37b3-4175-bc8e-2e5305b14af2"
      },
      "execution_count": null,
      "outputs": [
        {
          "output_type": "stream",
          "name": "stdout",
          "text": [
            "Epoch 1/20, Loss: 0.58\n",
            "Epoch 2/20, Loss: 0.37\n",
            "Epoch 3/20, Loss: 0.24\n",
            "Epoch 4/20, Loss: 0.15\n",
            "Epoch 5/20, Loss: 0.10\n",
            "Epoch 6/20, Loss: 0.06\n",
            "Epoch 7/20, Loss: 0.04\n",
            "Epoch 8/20, Loss: 0.03\n",
            "Epoch 9/20, Loss: 0.02\n",
            "Epoch 10/20, Loss: 0.01\n",
            "Epoch 11/20, Loss: 0.01\n",
            "Epoch 12/20, Loss: 0.00\n",
            "Epoch 13/20, Loss: 0.00\n",
            "Epoch 14/20, Loss: 0.00\n",
            "Epoch 15/20, Loss: 0.00\n",
            "Epoch 16/20, Loss: 0.00\n",
            "Epoch 17/20, Loss: 0.00\n",
            "Epoch 18/20, Loss: 0.00\n",
            "Epoch 19/20, Loss: 0.00\n",
            "Epoch 20/20, Loss: 0.00\n"
          ]
        }
      ]
    },
    {
      "cell_type": "code",
      "source": [
        "new_x = 121\n",
        "new_x_norm = (new_x - x_mean) / x_std\n",
        "new_x_tensor = torch.tensor(new_x_norm, dtype=torch.float32).view(1,-1)\n",
        "\n",
        "model.eval()\n",
        "\n",
        "with torch.no_grad():\n",
        "  prediction_norm = model(new_x_tensor)\n",
        "\n",
        "prediction = prediction_norm.item() * y_std + y_mean\n",
        "\n",
        "print(f\"Predicted value for {new_x}: {prediction.item():.2f}\")"
      ],
      "metadata": {
        "colab": {
          "base_uri": "https://localhost:8080/"
        },
        "id": "HNF4zp06IRgl",
        "outputId": "8224a03a-556d-4e4a-8ca7-c68c6979bc42"
      },
      "execution_count": null,
      "outputs": [
        {
          "output_type": "stream",
          "name": "stdout",
          "text": [
            "Predicted value for 121: 286.65\n"
          ]
        }
      ]
    },
    {
      "cell_type": "code",
      "source": [
        "plt.scatter(X,Y, label=\"Initial Data\")\n",
        "\n",
        "fit_line = model(X_tensor).detach().numpy() * y_std + y_mean\n",
        "plt.plot(X, fit_line, color=\"red\", label=\"Fitted Line\")\n",
        "plt.legend()\n",
        "\n",
        "plt.xlabel(\"X\")\n",
        "plt.ylabel(\"Y\")\n",
        "plt.show()"
      ],
      "metadata": {
        "colab": {
          "base_uri": "https://localhost:8080/",
          "height": 449
        },
        "id": "jEVZqLLjTl5D",
        "outputId": "8a46facc-4937-48de-dfc2-5af968911e19"
      },
      "execution_count": null,
      "outputs": [
        {
          "output_type": "display_data",
          "data": {
            "text/plain": [
              "<Figure size 640x480 with 1 Axes>"
            ],
            "image/png": "[encoded data removed]"
          },
          "metadata": {}
        }
      ]
    },
    {
      "cell_type": "code",
      "source": [
        "()"
      ],
      "metadata": {
        "id": "qdD1e9JQT71o"
      },
      "execution_count": null,
      "outputs": []
    }
  ]
}