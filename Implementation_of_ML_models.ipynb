{
  "nbformat": 4,
  "nbformat_minor": 0,
  "metadata": {
    "colab": {
      "provenance": [],
      "authorship_tag": "ABX9TyNZbwG3xPc7l7yaafIEjFBV",
      "include_colab_link": true
    },
    "kernelspec": {
      "name": "python3",
      "display_name": "Python 3"
    },
    "language_info": {
      "name": "python"
    }
  },
  "cells": [
    {
      "cell_type": "markdown",
      "metadata": {
        "id": "view-in-github",
        "colab_type": "text"
      },
      "source": [
        "<a href=\"https://colab.research.google.com/github/safdarjung/saf/blob/main/Implementation_of_ML_models.ipynb\" target=\"_parent\"><img src=\"https://colab.research.google.com/assets/colab-badge.svg\" alt=\"Open In Colab\"/></a>"
      ]
    },
    {
      "cell_type": "code",
      "execution_count": null,
      "metadata": {
        "id": "RnG0wLLaMKyx"
      },
      "outputs": [],
      "source": []
    },
    {
      "cell_type": "markdown",
      "source": [
        "***Implementation of Linear Regression Model***\n",
        "\n",
        "Model takes multiple independent input variables and outputs dependent variables that depends on the input data\n",
        "\n",
        "y = wx + b\n",
        "y=output, x=input, w=weights, b=bias\n",
        "\n",
        "this is an equation of a line, the model provides a line that best fits the datapoints, this algorithm is used when the relation between the input and the output variables is linear.\n",
        " The best fit line is found by comparing the model output with the ground truth during the model training phase.\n",
        " model training phase, the error or loss function is created that is used to adjust the value of the weights and the bias to fit the ground truth as similar as possible(although we do not want to fit the model exactly, we want a general model that could regress the similar output data based on the provided input variables)\n",
        " LOSS FUNC = MeanSquareError = j(w,b) = 1/N[(y-(wx+b))^2]\n",
        " we calc MSE for each datapoint in the dataset, then divide it with the no. of datapoints.\n",
        " Our objective is to minimise the loss function, by adjusting the values of weights and biases.\n",
        " to minimise we calculate the gradient/ derivative of the loss func wrt w and b, the apply the method of Gradient Decent.\n",
        " Gradient Decent, calc the gradient tells us if the slope is negative or positive, we want to move towards the global minima of the function, so we subtract some value from the weights and biases to advance towards the minima. the subtraction value is calculate as w = w-a*dw\n",
        "                                               b = b-a.db\n",
        "                                               a = learning rate,\n",
        "                                               db and dw = derivatives\n",
        "All the calculations are done using matrix operations  "
      ],
      "metadata": {
        "id": "xaGUsksgM0Hv"
      }
    },
    {
      "cell_type": "code",
      "source": [
        "\n",
        "import numpy as np\n",
        "\n",
        "class LinearRegression:\n",
        "  def __init__(self,lr = 0.001, n_iters = 1000):\n",
        "        self.lr = lr\n",
        "        self.n_iters = n_iters\n",
        "        self.weights = None\n",
        "        self.bias = None\n",
        "\n",
        "  def fit(self,X,y):\n",
        "        n_samples, n_features = X.shape\n",
        "        self.weights = np.zeros(n_features)\n",
        "        self.bias = 0\n",
        "        for _ in range(self.n_iters):\n",
        "          y_predicted = np.dot(X, self.weights) + self.bias\n",
        "          dw = (1/n_samples) * np.dot(X.T, (y_predicted - y))\n",
        "          db = (1/n_samples) * np.sum(y_predicted - y)\n",
        "\n",
        "          self.weights = self.weights - self.lr * dw\n",
        "          self.bias = self.bias - self.lr * db\n",
        "\n",
        "  def predict(self,X):\n",
        "        y_predicted = np.dot(X, self.weights) + self.bias\n",
        "        return y_predicted"
      ],
      "metadata": {
        "id": "tII2zSNHRvg3"
      },
      "execution_count": 1,
      "outputs": []
    },
    {
      "cell_type": "code",
      "source": [
        "from sklearn.model_selection import train_test_split\n",
        "from sklearn import datasets\n",
        "import matplotlib.pyplot as plt\n",
        "\n",
        "X,y = datasets.make_regression(n_samples=100,n_features=1,noise=20,random_state=42)\n",
        "X_train,X_test,y_train,y_test = train_test_split(X,y,test_size=0.2,random_state=1234)\n",
        "\n",
        "fig = plt.figure(figsize=(8,6))\n",
        "plt.scatter(X[:,0],y,color='b',marker='o',s=30)\n",
        "plt.show()"
      ],
      "metadata": {
        "colab": {
          "base_uri": "https://localhost:8080/",
          "height": 522
        },
        "id": "jmF9fEwATQLs",
        "outputId": "7464ce32-0de4-44f2-b4d2-eb9e55a31a76"
      },
      "execution_count": 2,
      "outputs": [
        {
          "output_type": "display_data",
          "data": {
            "text/plain": [
              "<Figure size 800x600 with 1 Axes>"
            ],
            "image/png": "[encoded data removed]"
          },
          "metadata": {}
        }
      ]
    },
    {
      "cell_type": "code",
      "source": [
        "LinearRegression = LinearRegression(lr=0.01)\n",
        "LinearRegression.fit(X_train,y_train)\n",
        "predicted = LinearRegression.predict(X_test)\n",
        "\n",
        "def mse(y_test,predicted):\n",
        "  return np.mean((y_test-predicted)**2)\n",
        "\n",
        "mse_value = mse(y_test,predicted)\n",
        "print(mse_value)"
      ],
      "metadata": {
        "colab": {
          "base_uri": "https://localhost:8080/"
        },
        "id": "-VtcWMmoT1z6",
        "outputId": "5e038a10-23c1-42a3-da83-aefec53e0a52"
      },
      "execution_count": 3,
      "outputs": [
        {
          "output_type": "stream",
          "name": "stdout",
          "text": [
            "220.02388898430726\n"
          ]
        }
      ]
    },
    {
      "cell_type": "code",
      "source": [
        "y_pred_line = LinearRegression.predict(X)\n",
        "cmap = plt.get_cmap('viridis')\n",
        "fig = plt.figure(figsize=(8,6))\n",
        "m1 = plt.scatter(X_train,y_train,color=cmap(0.9),s=10)\n",
        "m2 = plt.scatter(X_test,y_test,color=cmap(0.5),s=10)\n",
        "plt.plot(X,y_pred_line,color='black',linewidth=2,label='Prediction')\n",
        "plt.show()"
      ],
      "metadata": {
        "colab": {
          "base_uri": "https://localhost:8080/",
          "height": 522
        },
        "id": "TGA9IwwRUTuA",
        "outputId": "d4f5d9f7-b83d-4137-ac23-6444ffd83f97"
      },
      "execution_count": 4,
      "outputs": [
        {
          "output_type": "display_data",
          "data": {
            "text/plain": [
              "<Figure size 800x600 with 1 Axes>"
            ],
            "image/png": "[encoded data removed]"
          },
          "metadata": {}
        }
      ]
    },
    {
      "cell_type": "markdown",
      "source": [
        "***Logistic Regression Implementation***\n",
        "\n",
        "the equation is y = 1/(1+e^(-wx+b))\n",
        "                y = 1/(1+e^(-x))   -----> Sigmoid Function\n",
        "\n",
        "Logistic Regression outputs the probability value between 0 and 1.\n",
        "It models the probability that a given input point belongs to a particular class.\n",
        "LOSS FUNC = crossEntropy = 1/N [ylog(y') + (1-y)log(1-y')]\n",
        "\n",
        "crossEntropy is a loss function commonly used in classification problems.It measures the difference between two probability distributions.\n",
        "\n",
        "Here also, we use Gradient Descent to minimise the loss function\n"
      ],
      "metadata": {
        "id": "dBjMokpMVA3T"
      }
    },
    {
      "cell_type": "code",
      "source": [
        "def sigmoid(x):\n",
        "  return 1/(1+np.exp(-x))\n",
        "\n",
        "class LogisticRegression:\n",
        "  def __init__(self,lr=0.001,n_iters=1000):\n",
        "    self.lr = lr\n",
        "    self.n_iters = n_iters\n",
        "    self.weights = None\n",
        "    self.bias = None\n",
        "\n",
        "  def fit(self,X,y):\n",
        "    n_samples, n_features = X.shape\n",
        "    self.weights = np.zeros(n_features)\n",
        "    self.bias = 0\n",
        "\n",
        "    for _ in range(self.n_iters):\n",
        "      linear_pred = np.dot(X,self.weights) + self.bias\n",
        "      y_predicted = sigmoid(linear_pred)\n",
        "\n",
        "      dw = (1/n_samples) * np.dot(X.T,(y_predicted-y))\n",
        "      db = (1/n_samples) * np.sum(y_predicted-y)\n",
        "\n",
        "      self.weights = self.weights - self.lr * dw\n",
        "      self.bias = self.bias - self.lr * db\n",
        "\n",
        "\n",
        "  def predict(self,X):\n",
        "    linear_pred = np.dot(X,self.weights) + self.bias\n",
        "    y_predicted = sigmoid(linear_pred)\n",
        "    y_predicted_cls = [1 if i > 0.5 else 0 for i in y_predicted]\n",
        "    return y_predicted_cls"
      ],
      "metadata": {
        "id": "b-_y8SR4Up7J"
      },
      "execution_count": 7,
      "outputs": []
    },
    {
      "cell_type": "code",
      "source": [
        "data = datasets.load_breast_cancer()\n",
        "X,y = data.data, data.target\n",
        "\n",
        "X_train,X_test,y_train,y_test = train_test_split(X,y,test_size=0.2,random_state=1234)\n",
        "\n",
        "clf = LogisticRegression(lr=0.01)\n",
        "clf.fit(X_train,y_train)\n",
        "y_pred = clf.predict(X_test)\n",
        "\n",
        "def accuracy(y_pred,y_test):\n",
        "  return np.sum(y_pred==y_test)/len(y_test)           # how many times y_pred==y_test divide the number by no.of y_test\n",
        "\n",
        "acc = accuracy(y_pred,y_test)\n",
        "print(acc)\n",
        "\n",
        "\n",
        "\n",
        "\n",
        "\n"
      ],
      "metadata": {
        "colab": {
          "base_uri": "https://localhost:8080/"
        },
        "id": "r38U8TSMZp95",
        "outputId": "3a499f65-2f80-4da9-cc46-eb0b8a5232cf"
      },
      "execution_count": 9,
      "outputs": [
        {
          "output_type": "stream",
          "name": "stderr",
          "text": [
            "<ipython-input-7-6e3a9a85135a>:2: RuntimeWarning: overflow encountered in exp\n",
            "  return 1/(1+np.exp(-x))\n"
          ]
        },
        {
          "output_type": "stream",
          "name": "stdout",
          "text": [
            "0.9210526315789473\n"
          ]
        }
      ]
    },
    {
      "cell_type": "code",
      "source": [],
      "metadata": {
        "id": "KG_2ZMCHaVTd"
      },
      "execution_count": null,
      "outputs": []
    },
    {
      "cell_type": "markdown",
      "source": [
        "**Decision Trees**\n",
        "\n",
        "Entropy=-∑plog(p)\n",
        "p = class1/totalPoints\n",
        "\n",
        "Information gain = Entropy(parent)-[weighted avg]*Entropy(children)\n",
        " Information gain measures the reduction in entropy after a dataset is split based on a feature. It is calculated as the difference between the entropy of the original dataset and the weighted sum of the entropies of the subsets created by the split.\n",
        "\n",
        "Feature Selection: At each node, the algorithm selects the feature that best splits the data. This is based on measures like Gini impurity, entropy (for classification), or mean squared error (for regression).\n",
        "\n",
        "Splitting: The selected feature divides the dataset into subsets. The goal is to create child nodes that are as pure as possible, meaning they contain data points that are more similar to each other in terms of the target variable.\n",
        "\n",
        "Stopping Criteria: The splitting process continues until a stopping criterion is met, such as reaching a maximum tree depth, having a minimum number of samples per leaf, or achieving a node with pure samples.\n",
        "\n",
        "Prediction: For a new data point, the tree is traversed from the root to a leaf node by making decisions at each node based on the feature values of the data point. The leaf node reached provides the predicted class label (in classification) or value (in regression)."
      ],
      "metadata": {
        "id": "rczQ0MisbNIE"
      }
    },
    {
      "cell_type": "code",
      "source": [
        "from collections import Counter\n",
        "\n",
        "class Node:\n",
        "  def __init__(self,feature=None,threshold=None,left=None,right=None,*,value=None):     # using * we have to pass the value parameter by refernce like value=100\n",
        "    self.feature=feature\n",
        "    self.threshold=threshold\n",
        "    self.left=left\n",
        "    self.right=right\n",
        "    self.value=value\n",
        "\n",
        "  def is_leaf_node(self):\n",
        "    return self.value is not None\n",
        "\n",
        "class DecisionTree:\n",
        "  def __init__(self,min_samples_split=2,max_depth=100,n_features=None):\n",
        "    self.min_samples_split=min_samples_split\n",
        "    self.max_depth=max_depth\n",
        "    self.n_features=n_features\n",
        "    self.root=None\n",
        "\n",
        "  def fit(self,X,y):\n",
        "    self.n_features=X.shape[1] if not self.n_features else min(X.shape[1],self.n_features)\n",
        "    self.root=self._grow_tree(X,y)\n",
        "\n",
        "  def _grow_tree(self,X,y,depth=0):\n",
        "    n_samples,n_feats=X.shape\n",
        "    n_labels=len(np.unique(y))\n",
        "\n",
        "    # checking the stopping criteria\n",
        "    if (depth>=self.max_depth or n_labels==1 or n_samples<self.min_samples_split):\n",
        "      leaf_value=self._most_common_label(y)\n",
        "      return Node(value=leaf_value)\n",
        "\n",
        "    feat_idx=np.random.choice(n_feats,self.n_features,replace=False)\n",
        "    # if stopping criteria is not met, then we split using best split\n",
        "    best_feature,best_thresh=self._best_split(X,y,feat_idx)\n",
        "    # create child nodes\n",
        "    left_idx,right_idx=self._split(X[:,best_feature],best_thresh)\n",
        "    left = self._grow_tree(X[left_idx,:],y[left_idx],depth+1)\n",
        "    right = self._grow_tree(X[right_idx,:],y[right_idx],depth+1)\n",
        "\n",
        "    return Node(best_feature,best_thresh,left,right)\n",
        "\n",
        "  def _best_split(self,X,y,feat_idx):\n",
        "      best_gain=-1\n",
        "      split_idx,split_thresh=None,None\n",
        "\n",
        "      for feat in feat_idx:\n",
        "        X_column=X[:,feat]\n",
        "        thresholds=np.unique(X_column)\n",
        "        for thresh in thresholds:\n",
        "          #calc Information Gain\n",
        "          gain=self._information_gain(y,X_column,thresh)\n",
        "          if gain>best_gain:\n",
        "            best_gain=gain\n",
        "            split_idx=feat\n",
        "            split_thresh=thresh\n",
        "      return split_idx,split_thresh\n",
        "\n",
        "  def _information_gain(self,y,X_column,threshold):\n",
        "      #parent entropy\n",
        "      parent_entropy=self._entropy(y)\n",
        "      #create children\n",
        "      left_idxs,right_idxs=self._split(X_column,threshold)\n",
        "      if len(left_idxs)==0 or len(right_idxs)==0:\n",
        "        return 0\n",
        "      #weighted avg of entropy of children\n",
        "      n = len(y)\n",
        "      n_l,n_r = len(left_idxs),len(right_idxs)\n",
        "      e_l,e_r = self._entropy(y[left_idxs]),self._entropy(y[right_idxs])\n",
        "      child_entropy= (n_l/n) *e_l +(n_r/n)*e_r\n",
        "      #Information_gain\n",
        "      information_gain = parent_entropy - child_entropy\n",
        "      return information_gain\n",
        "\n",
        "  def _split(self,X_column,split_thresh):\n",
        "      left_idxs=np.argwhere(X_column<=split_thresh).flatten()\n",
        "      right_idxs=np.argwhere(X_column>split_thresh).flatten()\n",
        "      return left_idxs,right_idxs\n",
        "\n",
        "\n",
        "  def _entropy(self,y):\n",
        "      hist=np.bincount(y)\n",
        "      ps=hist/len(y)\n",
        "      return -np.sum([p*np.log(p) for p in ps if p>0])\n",
        "\n",
        "  def _most_common_label(self,y):\n",
        "    counter=Counter(y)\n",
        "    most_common=counter.most_common(1)[0][0]\n",
        "    return most_common\n",
        "\n",
        "  def predict(self,X):\n",
        "    return np.array([self._traverse_tree(x,self.root) for x in X])\n",
        "\n",
        "  def _traverse_tree(self,x,node):\n",
        "    if node.is_leaf_node():\n",
        "      return node.value\n",
        "\n",
        "    if x[node.feature]<=node.threshold:\n",
        "      return self._traverse_tree(x,node.left)\n",
        "    return self._traverse_tree(x,node.right)\n",
        "\n",
        "\n",
        "\n",
        "\n",
        "\n",
        "\n"
      ],
      "metadata": {
        "id": "3Ue8y-j4dD04"
      },
      "execution_count": 26,
      "outputs": []
    },
    {
      "cell_type": "code",
      "source": [
        "from sklearn import datasets\n",
        "from sklearn.model_selection import train_test_split\n",
        "import numpy as np\n",
        "\n",
        "data = datasets.load_breast_cancer()\n",
        "X, y = data.data, data.target\n",
        "\n",
        "X_train, X_test, y_train, y_test = train_test_split(\n",
        "    X, y, test_size=0.2, random_state=1234\n",
        ")\n",
        "\n",
        "clf = DecisionTree(max_depth=10)\n",
        "clf.fit(X_train, y_train)\n",
        "predictions = clf.predict(X_test)\n",
        "\n",
        "def accuracy(y_test, y_pred):\n",
        "    return np.sum(y_test == y_pred) / len(y_test)\n",
        "\n",
        "acc = accuracy(y_test, predictions)\n",
        "print(acc)"
      ],
      "metadata": {
        "colab": {
          "base_uri": "https://localhost:8080/"
        },
        "id": "Y8fAXXSHpn4E",
        "outputId": "d6248e80-1af0-4b22-8f9e-4f51404e2c9c"
      },
      "execution_count": 29,
      "outputs": [
        {
          "output_type": "stream",
          "name": "stdout",
          "text": [
            "0.9210526315789473\n"
          ]
        }
      ]
    },
    {
      "cell_type": "code",
      "source": [],
      "metadata": {
        "id": "prGn89tlp-5t"
      },
      "execution_count": null,
      "outputs": []
    }
  ]
}