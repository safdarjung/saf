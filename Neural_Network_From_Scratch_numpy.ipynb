{
  "nbformat": 4,
  "nbformat_minor": 0,
  "metadata": {
    "colab": {
      "provenance": [],
      "gpuType": "T4",
      "authorship_tag": "ABX9TyNf6MhSNXENW2t3NuTtVNFz",
      "include_colab_link": true
    },
    "kernelspec": {
      "name": "python3",
      "display_name": "Python 3"
    },
    "language_info": {
      "name": "python"
    },
    "accelerator": "GPU"
  },
  "cells": [
    {
      "cell_type": "markdown",
      "metadata": {
        "id": "view-in-github",
        "colab_type": "text"
      },
      "source": [
        "<a href=\"https://colab.research.google.com/github/safdarjung/saf/blob/main/Neural_Network_From_Scratch_numpy.ipynb\" target=\"_parent\"><img src=\"https://colab.research.google.com/assets/colab-badge.svg\" alt=\"Open In Colab\"/></a>"
      ]
    },
    {
      "cell_type": "code",
      "execution_count": 8,
      "metadata": {
        "id": "-0NsyKMK2Dtx"
      },
      "outputs": [],
      "source": [
        "import cupy as cp  # CuPy for GPU-accelerated array computations\n",
        "import numpy as np\n",
        "from sklearn.datasets import fetch_openml\n",
        "from sklearn.model_selection import train_test_split\n",
        "import matplotlib.pyplot as plt\n",
        "\n",
        "\n",
        "def one_hot_encode(Y, num_classes):\n",
        "    m = Y.shape[0]  # Number of examples\n",
        "    one_hot = cp.zeros((m, num_classes))\n",
        "    one_hot[cp.arange(m), Y] = 1  # one hot encode the labes for each row\n",
        "    return one_hot\n",
        "\n",
        "mnist = fetch_openml('mnist_784', version=1)\n",
        "\n",
        "# Normalize the image data to [0, 1] and convert types.\n",
        "X = mnist.data.astype(np.float32) / 255.0\n",
        "Y = mnist.target.astype(np.int32)\n",
        "\n",
        "X_train, X_test, Y_train, Y_test = train_test_split(X, Y, test_size=0.2, random_state=42)\n",
        "\n",
        "# --- Data Conversion for GPU ---\n",
        "# Transpose so that each column represents one example.\n",
        "# Then convert the NumPy arrays to CuPy arrays for GPU computations.\n",
        "X_train = cp.array(X_train.T)\n",
        "X_test = cp.array(X_test.T)\n",
        "Y_train = cp.array(Y_train)\n",
        "Y_test = cp.array(Y_test)\n",
        "\n",
        "# One-hot encode the labels and then transpose.\n",
        "Y_train_enc = one_hot_encode(Y_train, 10).T\n",
        "Y_test_enc = one_hot_encode(Y_test, 10).T\n",
        "\n",
        "\n",
        "\n"
      ]
    },
    {
      "cell_type": "code",
      "source": [
        "\n",
        "def sigmoid(Z):\n",
        "    return 1 / (1 + cp.exp(-Z))\n",
        "\n",
        "def sigmoid_derivative(Z):\n",
        "    s = sigmoid(Z)\n",
        "    return s * (1 - s)\n",
        "\n",
        "def softmax(Z):\n",
        "    # Subtract the max value for numerical stability.\n",
        "    expZ = cp.exp(Z - cp.max(Z, axis=0, keepdims=True))\n",
        "    return expZ / cp.sum(expZ, axis=0, keepdims=True)\n",
        "\n",
        "\n",
        "def initialize_parameters(n_x, n_h, n_y):\n",
        "    cp.random.seed(42)\n",
        "    W1 = cp.random.randn(n_h, n_x) * 0.01  # Small random weights for layer 1\n",
        "    b1 = cp.zeros((n_h, 1))  # Zero biases for layer 1\n",
        "    W2 = cp.random.randn(n_y, n_h) * 0.01  # Small random weights for layer 2\n",
        "    b2 = cp.zeros((n_y, 1))  # Zero biases for layer 2\n",
        "    return {\"W1\": W1, \"b1\": b1, \"W2\": W2, \"b2\": b2}\n",
        "\n",
        "\n",
        "def compute_cost(A2, Y):\n",
        "    m = Y.shape[1]  # Number of examples\n",
        "    cost = -cp.sum(Y * cp.log(A2)) / m  # Average cross-entropy loss\n",
        "    return cost\n"
      ],
      "metadata": {
        "id": "THG-iAwR2HrX"
      },
      "execution_count": 9,
      "outputs": []
    },
    {
      "cell_type": "code",
      "source": [
        "\n",
        "def forward_propagation(X, parameters):\n",
        "    W1 = parameters[\"W1\"]\n",
        "    b1 = parameters[\"b1\"]\n",
        "    W2 = parameters[\"W2\"]\n",
        "    b2 = parameters[\"b2\"]\n",
        "\n",
        "    # hidden layer linear combination.\n",
        "    Z1 = cp.dot(W1, X) + b1\n",
        "    A1 = sigmoid(Z1)\n",
        "    # Compute output layer linear combination.\n",
        "    Z2 = cp.dot(W2, A1) + b2\n",
        "    # Apply softmax to obtain class probabilities.\n",
        "    A2 = softmax(Z2)\n",
        "\n",
        "    # Cache results for use in backpropagation.\n",
        "    cache = {\"Z1\": Z1, \"A1\": A1, \"Z2\": Z2, \"A2\": A2}\n",
        "    return A2, cache\n"
      ],
      "metadata": {
        "id": "X-UYvcjWAIys"
      },
      "execution_count": 10,
      "outputs": []
    },
    {
      "cell_type": "code",
      "source": [
        "\n",
        "def backward_propagation(parameters, cache, X, Y):\n",
        "    m = X.shape[1]  # Number of examples\n",
        "    W2 = parameters[\"W2\"]\n",
        "    A1 = cache[\"A1\"]\n",
        "    A2 = cache[\"A2\"]\n",
        "\n",
        "    # Gradient of cost with respect to Z2.\n",
        "    dZ2 = A2 - Y\n",
        "    # Gradients for weights and biases of the second layer.\n",
        "    # we dot the loss (last layer after fwd_prop - actual labels) with the previous input to the layer before the final layer A1.\n",
        "    # eg: W4 will be updated  W5.T . Z4, and dW4 and db4 by using the output after the activation lyer in the previous layer\n",
        "    dW2 = cp.dot(dZ2, A1.T) / m\n",
        "    db2 = cp.sum(dZ2, axis=1, keepdims=True) / m    #produces a column vector where each element corresponds to the total error for one neuron across all training examples.\n",
        "\n",
        "    # Backpropagate to the hidden layer.\n",
        "    dZ1 = cp.dot(W2.T, dZ2) * sigmoid_derivative(cache[\"Z1\"])\n",
        "    dW1 = cp.dot(dZ1, X.T) / m\n",
        "    db1 = cp.sum(dZ1, axis=1, keepdims=True) / m\n",
        "\n",
        "    gradients = {\"dW1\": dW1, \"db1\": db1, \"dW2\": dW2, \"db2\": db2}\n",
        "    return gradients\n",
        "\n",
        "\n",
        "def update_parameters(parameters, gradients, learning_rate):\n",
        "    parameters[\"W1\"] = parameters[\"W1\"] - learning_rate * gradients[\"dW1\"]\n",
        "    parameters[\"b1\"] = parameters[\"b1\"] - learning_rate * gradients[\"db1\"]\n",
        "    parameters[\"W2\"] = parameters[\"W2\"] - learning_rate * gradients[\"dW2\"]\n",
        "    parameters[\"b2\"] = parameters[\"b2\"] - learning_rate * gradients[\"db2\"]\n",
        "    return parameters\n"
      ],
      "metadata": {
        "id": "cZcXgqkVAT1W"
      },
      "execution_count": 11,
      "outputs": []
    },
    {
      "cell_type": "code",
      "source": [
        "\n",
        "def nn_model(X, Y, n_h, num_iterations, learning_rate, print_cost=False):\n",
        "    n_x = X.shape[0]  # Number of input features\n",
        "    n_y = Y.shape[0]  # Number of output classes\n",
        "    parameters = initialize_parameters(n_x, n_h, n_y)\n",
        "\n",
        "    for i in range(num_iterations):\n",
        "        # Forward propagation: compute output probabilities.\n",
        "        A2, cache = forward_propagation(X, parameters)\n",
        "        # Compute the cross-entropy cost.\n",
        "        cost = compute_cost(A2, Y)\n",
        "        # Backward propagation: compute gradients.\n",
        "        gradients = backward_propagation(parameters, cache, X, Y)\n",
        "        # Update parameters using gradient descent.\n",
        "        parameters = update_parameters(parameters, gradients, learning_rate)\n",
        "\n",
        "        # Print cost every 100 iterations (cost is moved back to CPU for printing).\n",
        "        if print_cost and i % 100 == 0:\n",
        "            print(\"Cost after iteration %i: %f\" % (i, cp.asnumpy(cost)))\n",
        "    return parameters\n",
        "\n",
        "\n",
        "\n",
        "def predict(parameters, X):\n",
        "    A2, _ = forward_propagation(X, parameters)\n",
        "    predictions = cp.argmax(A2, axis=0)  # Class with the highest probability\n",
        "    return predictions\n",
        "\n"
      ],
      "metadata": {
        "id": "0C42rZCQAUaY"
      },
      "execution_count": 12,
      "outputs": []
    },
    {
      "cell_type": "code",
      "source": [
        "\n",
        "n_h = 64              # Number of hidden units\n",
        "num_iterations = 1000 # Number of training iterations\n",
        "learning_rate = 0.5   # Learning rate\n",
        "\n",
        "# Train the neural network model on the training set using GPU.\n",
        "parameters = nn_model(X_train, Y_train_enc, n_h, num_iterations, learning_rate, print_cost=True)\n",
        "\n",
        "# Generate predictions on training and test sets.\n",
        "train_predictions = predict(parameters, X_train)\n",
        "test_predictions = predict(parameters, X_test)\n",
        "\n",
        "# Compute accuracy (transfer results from GPU to CPU for printing).\n",
        "train_accuracy = cp.mean(train_predictions == Y_train) * 100\n",
        "test_accuracy = cp.mean(test_predictions == Y_test) * 100\n",
        "\n",
        "print(\"Training accuracy: \", cp.asnumpy(train_accuracy))\n",
        "print(\"Test accuracy: \", cp.asnumpy(test_accuracy))\n",
        "\n",
        "# ------------------------- Visualization of Test Outputs -------------------------\n",
        "\n",
        "# Transfer test predictions and test images back to CPU (NumPy) for visualization.\n",
        "test_preds_cpu = cp.asnumpy(test_predictions)\n",
        "X_test_cpu = cp.asnumpy(X_test)  # Shape: (784, number of test examples)\n",
        "Y_test_cpu = cp.asnumpy(Y_test)\n",
        "\n",
        "# Plot the first 10 test images with their predicted and true labels.\n",
        "plt.figure(figsize=(12, 4))\n",
        "for i in range(10):\n",
        "    plt.subplot(2, 5, i + 1)\n",
        "    # Reshape the flat 784-length vector into a 28x28 image.\n",
        "    image = X_test_cpu[:, i].reshape(28, 28)\n",
        "    plt.imshow(image, cmap='gray')\n",
        "    plt.title(\"Pred: %d, True: %d\" % (test_preds_cpu[i], Y_test_cpu[i]))\n",
        "    plt.axis('off')\n",
        "plt.tight_layout()\n",
        "plt.show()"
      ],
      "metadata": {
        "colab": {
          "base_uri": "https://localhost:8080/",
          "height": 447
        },
        "id": "IkiIrXZvAbZv",
        "outputId": "a9a40c96-f63b-404d-f17b-c4f6db1ce50a"
      },
      "execution_count": 13,
      "outputs": [
        {
          "output_type": "stream",
          "name": "stdout",
          "text": [
            "Cost after iteration 0: 2.302615\n",
            "Cost after iteration 100: 0.974716\n",
            "Cost after iteration 200: 0.513692\n",
            "Cost after iteration 300: 0.397578\n",
            "Cost after iteration 400: 0.346553\n",
            "Cost after iteration 500: 0.316647\n",
            "Cost after iteration 600: 0.295687\n",
            "Cost after iteration 700: 0.279393\n",
            "Cost after iteration 800: 0.265900\n",
            "Cost after iteration 900: 0.254255\n",
            "Training accuracy:  93.025\n",
            "Test accuracy:  92.75714285714287\n"
          ]
        },
        {
          "output_type": "display_data",
          "data": {
            "text/plain": [
              "<Figure size 1200x400 with 10 Axes>"
            ],
            "image/png": "[encoded data removed]"
          },
          "metadata": {}
        }
      ]
    }
  ]
}