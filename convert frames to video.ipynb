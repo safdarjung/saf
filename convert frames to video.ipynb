{
  "nbformat": 4,
  "nbformat_minor": 0,
  "metadata": {
    "colab": {
      "provenance": [],
      "authorship_tag": "ABX9TyMAxH8jepD8YdwLSzqVv5Rl",
      "include_colab_link": true
    },
    "kernelspec": {
      "name": "python3",
      "display_name": "Python 3"
    },
    "language_info": {
      "name": "python"
    }
  },
  "cells": [
    {
      "cell_type": "markdown",
      "metadata": {
        "id": "view-in-github",
        "colab_type": "text"
      },
      "source": [
        "<a href=\"https://colab.research.google.com/github/safdarjung/saf/blob/main/convert%20frames%20to%20video.ipynb\" target=\"_parent\"><img src=\"https://colab.research.google.com/assets/colab-badge.svg\" alt=\"Open In Colab\"/></a>"
      ]
    },
    {
      "cell_type": "code",
      "execution_count": null,
      "metadata": {
        "id": "B5oET-4U_hwd"
      },
      "outputs": [],
      "source": [
        "import cv2\n",
        "import os\n",
        "\n",
        "def create_video_from_images(file_path, video_name='output_video.avi', fps=30.0, codec='XVID'):\n",
        "  \"\"\"\n",
        "  Converts a sequence of images from a folder provided by the file path into a video.\n",
        "\n",
        "  Args:\n",
        "      file_path (str): Path to the folder containing the image sequence.\n",
        "      video_name (str, optional): Desired name for the output video. Defaults to 'output_video.avi'.\n",
        "      fps (float, optional): Frame rate (frames per second) for the video. Defaults to 30.0.\n",
        "      codec (str, optional): Video codec used for encoding. Defaults to 'XVID'.\n",
        "\n",
        "  Returns:\n",
        "      None\n",
        "  \"\"\"\n",
        "\n",
        "  # Check if the path leads to a folder\n",
        "  if not os.path.isdir(file_path):\n",
        "      print(f\"Error: Provided path is not a directory: {file_path}\")\n",
        "      return  # Exit function if not a directory\n",
        "\n",
        "  # Extract image folder path\n",
        "  image_folder = file_path\n",
        "\n",
        "  # Count total images\n",
        "  image_count = 0\n",
        "  for filename in os.listdir(image_folder):\n",
        "      if filename.endswith(('.jpg', '.png')):\n",
        "          image_count += 1\n",
        "\n",
        "  # Print image count\n",
        "  print(f\"Found {image_count} images in folder.\")\n",
        "\n",
        "  # Get image dimensions from the first image (assuming consistent image sizes)\n",
        "  image_path = os.path.join(image_folder, os.listdir(image_folder)[0])  # Get path to first image\n",
        "  image = cv2.imread(image_path)\n",
        "  if image is None:\n",
        "      print(f\"Error: Could not read first image file: {image_path}\")\n",
        "      return  # Exit function if image reading fails\n",
        "\n",
        "  width, height = image.shape[:2]\n",
        "\n",
        "  # Define video writer object\n",
        "  fourcc = cv2.VideoWriter_fourcc(*codec)\n",
        "  video_out = cv2.VideoWriter(video_name, fourcc, fps, (1920,1080))\n",
        "\n",
        "  # Loop through all images in the folder\n",
        "  for filename in sorted(os.listdir(image_folder)):\n",
        "      if filename.endswith(('.jpg', '.png')):\n",
        "          image_path = os.path.join(image_folder, filename)\n",
        "          image = cv2.imread(image_path)\n",
        "          if image is None:\n",
        "              print(f\"Error: Skipping unreadable image: {image_path}\")\n",
        "              continue  # Skip unreadable images\n",
        "          video_out.write(image)\n",
        "\n",
        "  # Release the video writer object\n",
        "  video_out.release()\n",
        "\n",
        "  print(f'Video created successfully: {video_name}')\n",
        "\n",
        "# Example usage (replace with your actual folder path)\n",
        "folder_path = '/content/football-players-detection-9/train/images'  # Replace with the path to your folder\n",
        "create_video_from_images(folder_path)\n"
      ]
    }
  ]
}